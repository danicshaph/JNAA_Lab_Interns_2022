{
 "cells": [
  {
   "cell_type": "markdown",
   "metadata": {},
   "source": [
    "# ACTIVITY 4"
   ]
  },
  {
   "cell_type": "markdown",
   "metadata": {},
   "source": [
    "- Read Kumasi, Accra, Kete_krachi and Wa Rainfall datasets using pandas.\n",
    "- Rename the columns to suit the column elements\n",
    "- Create a datetime using the columns containing, year, month and day.\n",
    "- Find the annual rainfall total of all the datasets and visualise all the stations data in one figure\n",
    "- Find the annual Rainfall anomalies for each station\n",
    "- Create a bar chart for the yearly rainfall anomalies for each station by creating a subplot of 2 rows and 2 columns (each axis conatinaing visualisation for each station data)\n",
    "-  Save your graph as pdf\n",
    "\n",
    "## NB: \n",
    "- make sure you label all graphs\n",
    "- Make use of comments and the markdown to make your script look presentable\n"
   ]
  }
 ],
 "metadata": {
  "kernelspec": {
   "display_name": "Python 3",
   "language": "python",
   "name": "python3"
  },
  "language_info": {
   "codemirror_mode": {
    "name": "ipython",
    "version": 3
   },
   "file_extension": ".py",
   "mimetype": "text/x-python",
   "name": "python",
   "nbconvert_exporter": "python",
   "pygments_lexer": "ipython3",
   "version": "3.8.5"
  }
 },
 "nbformat": 4,
 "nbformat_minor": 5
}
